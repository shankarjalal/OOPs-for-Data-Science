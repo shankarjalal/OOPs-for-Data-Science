{
 "cells": [
  {
   "cell_type": "markdown",
   "id": "2986b6fb",
   "metadata": {},
   "source": [
    "## **Python OOPs Assignment** "
   ]
  },
  {
   "cell_type": "code",
   "execution_count": null,
   "id": "864f1554",
   "metadata": {},
   "outputs": [
    {
     "name": "stdout",
     "output_type": "stream",
     "text": [
      "This anumal makes a sound.\n",
      "Bark!\n"
     ]
    }
   ],
   "source": [
    "# 1) Parent Animal with speak() and chile Dog overriding it?\n",
    "\n",
    "class Animal: # Parent class\n",
    "    def speak(self):\n",
    "        print('This anumal makes a sound.')\n",
    "\n",
    "class Dog(Animal):\n",
    "    def speak(self):\n",
    "        print(\"Bark!\")\n",
    "\n",
    "if __name__ == \"__main__\" :\n",
    "    a = Animal()\n",
    "    a.speak()\n",
    "    d = Dog()\n",
    "    d.speak()       \n"
   ]
  },
  {
   "cell_type": "code",
   "execution_count": null,
   "id": "e8135327",
   "metadata": {},
   "outputs": [
    {
     "name": "stdout",
     "output_type": "stream",
     "text": [
      "Circle area: 28.27\n",
      "Rectangle area: 20\n"
     ]
    }
   ],
   "source": [
    "# 2) Abstract class Shape with area(); Circle and Ractangle implement it.\n",
    "\n",
    "from abc import ABC, abstractmethod\n",
    "import math\n",
    "# Parent class\n",
    "class Shape(ABC):\n",
    "    @abstractmethod\n",
    "    def area(self): # method\n",
    "        pass\n",
    "\n",
    "# Child class\n",
    "class Circle(Shape):\n",
    "    def __init__(self, radius):\n",
    "        self.radius = radius\n",
    "\n",
    "    def area(self):\n",
    "        return math.pi * (self.radius ** 2)\n",
    "# Child class    \n",
    "class Rectangle(Shape):\n",
    "    def __init__(self, width, height):\n",
    "        self.width = width\n",
    "        self.height = height\n",
    "\n",
    "    def area(self):\n",
    "        return self.width * self.height\n",
    "    \n",
    "if __name__ == \"__main__\":\n",
    "    c = Circle(3)\n",
    "    r = Rectangle(4, 5)\n",
    "    print(f'Circle area: {c.area():.2f}')\n",
    "    print(f'Rectangle area: {r.area()}')"
   ]
  },
  {
   "cell_type": "code",
   "execution_count": 142,
   "id": "b66eb194",
   "metadata": {},
   "outputs": [
    {
     "name": "stdout",
     "output_type": "stream",
     "text": [
      "Car Model 3 with 75 KWh battery.\n"
     ]
    }
   ],
   "source": [
    "# 3) Multi-level inheritance: Vehicle -> Car -> ElectricCar.\n",
    "\n",
    "class Vehicle:\n",
    "    def __init__(self, type_):\n",
    "        self.type = type_\n",
    "\n",
    "class Car(Vehicle):\n",
    "    def __init__(self, type_, model):\n",
    "        super().__init__(type_)\n",
    "        self.model = model\n",
    "\n",
    "class ElectricCar(Car): # ElectricCar should inherit from Car\n",
    "    def __init__(self, type_, model, battery_kwh):\n",
    "        super().__init__(type_, model) # Pass type_ and model to the Car constructor\n",
    "        self.battery_kwh = battery_kwh\n",
    "\n",
    "    def info(self):\n",
    "        return f'{self.type} {self.model} with {self.battery_kwh} KWh battery.'\n",
    "\n",
    "if __name__ == \"__main__\":\n",
    "    tesla = ElectricCar('Car', 'Model 3', 75)\n",
    "    print(tesla.info())"
   ]
  },
  {
   "cell_type": "code",
   "execution_count": 143,
   "id": "dbf9167a",
   "metadata": {},
   "outputs": [
    {
     "name": "stdout",
     "output_type": "stream",
     "text": [
      "Sparrow flies high.\n",
      "Penguin cannot fly. It swims instead.\n"
     ]
    }
   ],
   "source": [
    "# 4) Polymorpism: Bird base with Sparrow and Penguin overriding fly():\n",
    "\n",
    "class Bird:\n",
    "    def fly(self):\n",
    "        print(\"Some bird can fly.\")\n",
    "    \n",
    "class Sparrow(Bird):\n",
    "    def fly(self):\n",
    "        print('Sparrow flies high.')\n",
    "\n",
    "class Penguin(Bird):\n",
    "    def fly(self):\n",
    "        print('Penguin cannot fly. It swims instead.')\n",
    "\n",
    "def let_it_fly(bird : Bird):\n",
    "    bird.fly()\n",
    "\n",
    "if __name__ == \"__main__\":\n",
    "    for b in (Sparrow(), Penguin()):\n",
    "        let_it_fly(b)"
   ]
  },
  {
   "cell_type": "code",
   "execution_count": 144,
   "id": "a850b5f6",
   "metadata": {},
   "outputs": [
    {
     "name": "stdout",
     "output_type": "stream",
     "text": [
      "Balance:  1000.0\n"
     ]
    }
   ],
   "source": [
    "# 5) Encapsulation: BankAcccount with private balance and methods.\n",
    "\n",
    "class BankAcount:\n",
    "    def __init__(self, initial_balance = 0):\n",
    "        self.__balance = float(initial_balance)\n",
    "\n",
    "    def deposit(self, amount):\n",
    "        if amount <= 0:\n",
    "            raise ValueError(\"Deposit must be positive\")\n",
    "        self.__balance += amount\n",
    "\n",
    "    def withdrow(self, amount):\n",
    "        if amount <= 0:\n",
    "            raise ValueError(\"Withdrow must be positive.\")\n",
    "        if amount > self.__balance:\n",
    "            raise ValueError('Insufficient funds.')\n",
    "        self.__balance -= amount\n",
    "\n",
    "    def get_balance(self):\n",
    "        return self.__balance\n",
    "    \n",
    "if __name__ == \"__main__\":\n",
    "    acc = BankAcount(1100)\n",
    "    acc.deposit(100)\n",
    "    try:\n",
    "        acc.withdrow(200)\n",
    "    except ValueError as er:\n",
    "        print(er)\n",
    "    print(\"Balance: \", acc.get_balance())"
   ]
  },
  {
   "cell_type": "code",
   "execution_count": 145,
   "id": "13295f16",
   "metadata": {},
   "outputs": [
    {
     "name": "stdout",
     "output_type": "stream",
     "text": [
      "Guiter is strummed.\n",
      "Piano is played with keys\n"
     ]
    }
   ],
   "source": [
    "# 6) Runtime Polymorphism: Instrument base with Guitar and Piano.\n",
    "\n",
    "class Instrument:\n",
    "    def play(self):\n",
    "        raise NotImplementedError('Subclasses must implement play()') \n",
    "    \n",
    "class Guitar(Instrument):\n",
    "    def play(self):\n",
    "        print(\"Guiter is strummed.\")\n",
    "\n",
    "class Piano(Instrument):\n",
    "    def play(self):\n",
    "        print('Piano is played with keys')\n",
    "\n",
    "if __name__ == \"__main__\":\n",
    "    guiter = Guitar()\n",
    "    piano = Piano()\n",
    "\n",
    "    guiter.play()\n",
    "    piano.play()    "
   ]
  },
  {
   "cell_type": "code",
   "execution_count": 146,
   "id": "edd2e1c9",
   "metadata": {},
   "outputs": [
    {
     "name": "stdout",
     "output_type": "stream",
     "text": [
      "Add:  14\n",
      "Subtract:  2\n"
     ]
    }
   ],
   "source": [
    "# 7) MathOperations with a class method add_number() and static method subtract_numbers().\n",
    "\n",
    "class MathOperations:\n",
    "    @classmethod\n",
    "    def add_numbers(cls, a, b):\n",
    "        return a + b\n",
    "\n",
    "    @staticmethod\n",
    "    def subtract_numbers(a , b):\n",
    "        return a - b\n",
    "\n",
    "if __name__ == \"__main__\":\n",
    "    print('Add: ', MathOperations.add_numbers(8 ,6))\n",
    "    print('Subtract: ', MathOperations.subtract_numbers(4, 2))"
   ]
  },
  {
   "cell_type": "code",
   "execution_count": 147,
   "id": "f4f2d343",
   "metadata": {},
   "outputs": [
    {
     "name": "stdout",
     "output_type": "stream",
     "text": [
      "Total Person: 2\n"
     ]
    }
   ],
   "source": [
    "# 8) Person class with a class method to count instances.\n",
    "\n",
    "class Person:\n",
    "    count = 0  # Class variable to keep track of instances\n",
    "\n",
    "    def __init__(self, name):\n",
    "        self.name = name\n",
    "        Person.count += 1 # Increment the count when a new instance is created\n",
    "\n",
    "    @classmethod\n",
    "    def total_person(cls):\n",
    "        return cls.count\n",
    "\n",
    "if __name__ == \"__main__\":\n",
    "    p1 = Person('Alice')\n",
    "    p2 = Person('Bob')\n",
    "    print(\"Total Person:\", Person.total_person())"
   ]
  },
  {
   "cell_type": "code",
   "execution_count": 148,
   "id": "7a05a9ae",
   "metadata": {},
   "outputs": [
    {
     "name": "stdout",
     "output_type": "stream",
     "text": [
      "0.2\n"
     ]
    }
   ],
   "source": [
    "# 9) Fraction class with __str__ overridden to show numerator/denominator.\n",
    "\n",
    "class Fraction:\n",
    "\n",
    "    def __init__(self, numerator, denominator):\n",
    "        if denominator == 0:\n",
    "            raise ValueError('Denominator cannot be zero. ')\n",
    "        self.numerator = numerator\n",
    "        self.denominator = denominator\n",
    "\n",
    "    def __str__(self):\n",
    "        return f'{self.numerator / self.denominator}'\n",
    "\n",
    "\n",
    "if __name__ == \"__main__\":\n",
    "    f = Fraction(10, 50)\n",
    "    print(str(f))"
   ]
  },
  {
   "cell_type": "code",
   "execution_count": 149,
   "id": "7d8c404c",
   "metadata": {},
   "outputs": [
    {
     "name": "stdout",
     "output_type": "stream",
     "text": [
      "Add: Vector 3, 7\n",
      "Subtract: Vector -1, 1\n"
     ]
    }
   ],
   "source": [
    "# 10) Operator overloading Vector class implements.\n",
    "\n",
    "class Vector:\n",
    "    \n",
    "    def __init__(self,  x, y):\n",
    "        self.x = x\n",
    "        self.y = y\n",
    "\n",
    "    def __str__(self):\n",
    "        return f\"Vector {self.x}, {self.y}\"\n",
    "    \n",
    "    def __add__(self, other):\n",
    "        if isinstance(other, Vector):\n",
    "            return Vector(self.x + other.x , self.y + other.y)\n",
    "        else:\n",
    "            raise TypeError(\"Operand must be a vector instance\")\n",
    "        \n",
    "    def __sub__(self, other):\n",
    "        if isinstance(other, Vector):\n",
    "            return Vector(self.x - other.x, self.y - other.y)\n",
    "        else:\n",
    "            raise TypeError(\"Operand must be a vector instance.\")\n",
    "    \n",
    "# Examples.\n",
    "if __name__ == \"__main__\":\n",
    "    v1 = Vector(2,3)\n",
    "    v2 = Vector(1, 4)\n",
    "\n",
    "    v3 = v1 + v2\n",
    "    v4 = v1 - v2\n",
    "\n",
    "    print(f'Add: {v1 + v2}')\n",
    "    print(f'Subtract: {v2-v1}')\n"
   ]
  },
  {
   "cell_type": "code",
   "execution_count": 150,
   "metadata": {},
   "outputs": [
    {
     "name": "stdout",
     "output_type": "stream",
     "text": [
      "Hello my name is Shanku and I am 23 years olds.\n"
     ]
    }
   ],
   "source": [
    "# 11) Person class with greet() printing name and age.\n",
    "\n",
    "class Person:\n",
    "    def __init__(self, name, age):\n",
    "        self.name = name\n",
    "        self.age = age\n",
    "\n",
    "    def great(self):\n",
    "        print(f'Hello my name is {self.name} and I am {self.age} years olds.')\n",
    "\n",
    "if __name__ == \"__main__\":\n",
    "    p = Person('Shanku', 23)\n",
    "    p.great()"
   ]
  },
  {
   "cell_type": "code",
   "execution_count": 151,
   "id": "45cd8ec5",
   "metadata": {},
   "outputs": [
    {
     "name": "stdout",
     "output_type": "stream",
     "text": [
      "Average: 80.4\n"
     ]
    }
   ],
   "source": [
    "# 12) Student with grades and agerage_grade() method.\n",
    "\n",
    "class Student:\n",
    "\n",
    "    def __init__(self, name, grades):\n",
    "        self.name = name\n",
    "        self.grades = grades\n",
    "\n",
    "    def avg_grades(self):\n",
    "        if not self.grades:\n",
    "            return 0.0\n",
    "        else:\n",
    "            return sum(self.grades) / len(self.grades)\n",
    "        \n",
    "if __name__ == \"__main__\":\n",
    "    s = Student('Ravi', [82, 90, 74, 88, 68])\n",
    "    print('Average:', s.avg_grades())"
   ]
  },
  {
   "cell_type": "code",
   "execution_count": 152,
   "id": "ea9338cd",
   "metadata": {},
   "outputs": [
    {
     "name": "stdout",
     "output_type": "stream",
     "text": [
      "Area of Ractangle: 20\n"
     ]
    }
   ],
   "source": [
    "# 13) Ractangle with set_dimensions() and area().\n",
    "\n",
    "class Ractangle:\n",
    "    def __init__(self, width=0, height=0):\n",
    "        self.width = width\n",
    "        self.height = height\n",
    "\n",
    "    def set_dimensions(self, width, height):\n",
    "        if width < 0 and height < 0:\n",
    "            raise ValueError('Dimensions must be positive.')\n",
    "        self.width = width\n",
    "        self.height = height\n",
    "\n",
    "    def area(self):\n",
    "        return self.width * self.height\n",
    "\n",
    "\n",
    "if __name__ == \"__main__\":\n",
    "    rect = Ractangle()\n",
    "    rect.set_dimensions(4,5)\n",
    "    print('Area of Ractangle:', rect.area())"
   ]
  },
  {
   "cell_type": "code",
   "execution_count": 153,
   "metadata": {},
   "outputs": [
    {
     "name": "stdout",
     "output_type": "stream",
     "text": [
      "Emoloyee Salary: 1300\n",
      "Manager Salary: 1900\n"
     ]
    }
   ],
   "source": [
    "# 14) Employee calculate salary, Manager adds bonus.\n",
    "\n",
    "class Employees:\n",
    "    def __init__(self, name, hours_worked, hours_rate):\n",
    "        self.name = name\n",
    "        self.hours_worked = hours_worked\n",
    "        self.hours_rate = hours_rate\n",
    "\n",
    "    def calculate_salary(self):\n",
    "        return self.hours_worked * self.hours_rate\n",
    "\n",
    "class Managers(Employees):\n",
    "    def __init__(self, name, hours_worked, hours_rate, bonus):\n",
    "        super().__init__(name, hours_worked, hours_rate)\n",
    "        self.bonus = bonus\n",
    "\n",
    "    def calculate_salary(self):\n",
    "        base = super().calculate_salary()\n",
    "        return base + self.bonus\n",
    "\n",
    "if __name__ == \"__main__\":\n",
    "    e = Employees(\"Asha\", 130, 10)\n",
    "    m = Managers('Sahil', 140, 10, 500)\n",
    "\n",
    "    print('Emoloyee Salary:', e.calculate_salary())\n",
    "    print('Manager Salary:', m.calculate_salary())"
   ]
  },
  {
   "cell_type": "code",
   "execution_count": 154,
   "id": "635be7ae",
   "metadata": {},
   "outputs": [
    {
     "name": "stdout",
     "output_type": "stream",
     "text": [
      "Total Price: 600.0\n"
     ]
    }
   ],
   "source": [
    "# 15) Product with total_price() (price * quantity)\n",
    "\n",
    "class Product:\n",
    "    def __init__(self, name, price, quantity):\n",
    "        self.name = name\n",
    "        self.price = float(price)\n",
    "        self.quantity = int(quantity)\n",
    "\n",
    "    def total_price(self):\n",
    "        return self.price * self.quantity\n",
    "\n",
    "if __name__ == \"__main__\":\n",
    "    p1 = Product('Notebook', 40, 15)\n",
    "\n",
    "    print('Total Price:', p1.total_price())\n"
   ]
  },
  {
   "cell_type": "code",
   "execution_count": 157,
   "id": "9f2dc827",
   "metadata": {},
   "outputs": [
    {
     "name": "stdout",
     "output_type": "stream",
     "text": [
      "MOO\n",
      "Baa\n"
     ]
    }
   ],
   "source": [
    "# 16) Animal with abstract sound() implemented by Cow and Sheep.\n",
    "\n",
    "from abc import ABC, abstractmethod\n",
    "\n",
    "class Animal(ABC):\n",
    "    @abstractmethod\n",
    "    def sound(self):\n",
    "        pass\n",
    "\n",
    "class Cow(Animal):\n",
    "    def sound(self):\n",
    "        print('MOO')\n",
    "\n",
    "class Sheep(Animal):\n",
    "    def sound(self):\n",
    "        print('Baa')\n",
    "\n",
    "if __name__ == \"__main__\":\n",
    "    for a in (Cow(), Sheep()):\n",
    "        a.sound()"
   ]
  },
  {
   "cell_type": "code",
   "execution_count": 158,
   "id": "daab2d6f",
   "metadata": {},
   "outputs": [
    {
     "name": "stdout",
     "output_type": "stream",
     "text": [
      "\"The Alchemist\" by \"Paulo Coelho\", published in \"1988\".\n"
     ]
    }
   ],
   "source": [
    "# 17) Book class with get_book_info() returning formatted string.\n",
    "\n",
    "class Book:\n",
    "    def __init__(self, title, author, year_published):\n",
    "        self.title = title\n",
    "        self.author = author\n",
    "        self.year_published = year_published\n",
    "\n",
    "    def get_book_info(self):\n",
    "        return f'\"{self.title}\" by \"{self.author}\", published in \"{self.year_published}\".'\n",
    "\n",
    "if __name__ == \"__main__\":\n",
    "    b = Book('The Alchemist', \"Paulo Coelho\", 1988)\n",
    "\n",
    "    print(b.get_book_info())"
   ]
  },
  {
   "cell_type": "code",
   "execution_count": 159,
   "id": "86fc3db8",
   "metadata": {},
   "outputs": [
    {
     "name": "stdout",
     "output_type": "stream",
     "text": [
      "123 Park Lane, priced at 1000000. with 8 rooms.\n"
     ]
    }
   ],
   "source": [
    "# 18) House with address and price; Mansion adds number_of_rooms.\n",
    "\n",
    "class House:\n",
    "    def __init__(self, address, price):\n",
    "        self.address = address\n",
    "        self.price = price\n",
    "\n",
    "    def info(self):\n",
    "        return f\"{self.address}, priced at {self.price}.\"\n",
    "\n",
    "class Mansion(House):\n",
    "    def __init__(self,address, price, number_of_rooms):\n",
    "        super().__init__(address, price)\n",
    "        self.number_of_rooms = number_of_rooms\n",
    "\n",
    "    def info(self):\n",
    "        return f'{self.address}, priced at {self.price}. with {self.number_of_rooms} rooms.'\n",
    "\n",
    "if __name__ == \"__main__\":\n",
    "    h = Mansion(\"123 Park Lane\", 1000000, 8)\n",
    "    print(h.info())"
   ]
  },
  {
   "cell_type": "code",
   "execution_count": null,
   "id": "945e866c",
   "metadata": {},
   "outputs": [],
   "source": []
  }
 ],
 "metadata": {
  "kernelspec": {
   "display_name": "Python 3",
   "language": "python",
   "name": "python3"
  },
  "language_info": {
   "codemirror_mode": {
    "name": "ipython",
    "version": 3
   },
   "file_extension": ".py",
   "mimetype": "text/x-python",
   "name": "python",
   "nbconvert_exporter": "python",
   "pygments_lexer": "ipython3",
   "version": "3.13.1"
  }
 },
 "nbformat": 4,
 "nbformat_minor": 5
}
